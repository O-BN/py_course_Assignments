{
 "cells": [
  {
   "cell_type": "code",
   "execution_count": 23,
   "id": "bd727862-2412-4fc5-949a-9f9d80a289c4",
   "metadata": {},
   "outputs": [
    {
     "name": "stdout",
     "output_type": "stream",
     "text": [
      "Rectangle area: 200\n",
      "Circle area is: {63.62} and the circumference is: {28.27} .\n"
     ]
    }
   ],
   "source": [
    "(open(\"rectangle.py\").read())\n",
    "(open(\"circle.py\").read())\n",
    "\n",
    "# Variables will be available in the notebook's namespace\n",
    "print(f\"Rectangle area: {width*length}\")\n",
    "print(f\"Circle area is:\", {round(pi_num*radius**2,2)}, \"and the circumference is:\", {round(2*pi_num*radius,2)},\".\")"
   ]
  },
  {
   "cell_type": "code",
   "execution_count": null,
   "id": "27938784-fc00-4daf-9b7e-cbd91a21ec4d",
   "metadata": {},
   "outputs": [],
   "source": []
  }
 ],
 "metadata": {
  "kernelspec": {
   "display_name": "Python 3",
   "language": "python",
   "name": "python3"
  },
  "language_info": {
   "codemirror_mode": {
    "name": "ipython",
    "version": 3
   },
   "file_extension": ".py",
   "mimetype": "text/x-python",
   "name": "python",
   "nbconvert_exporter": "python",
   "pygments_lexer": "ipython3",
   "version": "3.13.0"
  }
 },
 "nbformat": 4,
 "nbformat_minor": 5
}
