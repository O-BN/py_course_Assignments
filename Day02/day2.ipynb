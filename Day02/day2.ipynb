{
 "cells": [
  {
   "cell_type": "code",
   "execution_count": 5,
   "id": "bd727862-2412-4fc5-949a-9f9d80a289c4",
   "metadata": {},
   "outputs": [
    {
     "name": "stdout",
     "output_type": "stream",
     "text": [
      "Area of the rectangle is: 539 and the perimeter is 168\n",
      "The area of the circle is 63.62 and the circumference is 28.27 .\n",
      "Rectangle area: 539\n",
      "Circle area is: {63.62} and the circumference is: {28.27} .\n"
     ]
    }
   ],
   "source": [
    "exec(open(\"rectangle.py\").read())\n",
    "exec(open(\"circle.py\").read())\n",
    "\n",
    "print(f\"Rectangle area: {width*length}\")\n",
    "print(f\"Circle area is:\", {round(pi_num*radius**2,2)}, \"and the circumference is:\", {round(2*pi_num*radius,2)},\".\")\n",
    "    \n"
   ]
  },
  {
   "cell_type": "code",
   "execution_count": null,
   "id": "27938784-fc00-4daf-9b7e-cbd91a21ec4d",
   "metadata": {},
   "outputs": [],
   "source": []
  },
  {
   "cell_type": "code",
   "execution_count": null,
   "id": "15e2df54-1b46-48d9-af2a-5e94edc7b88e",
   "metadata": {},
   "outputs": [],
   "source": []
  }
 ],
 "metadata": {
  "kernelspec": {
   "display_name": "Python 3 (ipykernel)",
   "language": "python",
   "name": "python3"
  },
  "language_info": {
   "codemirror_mode": {
    "name": "ipython",
    "version": 3
   },
   "file_extension": ".py",
   "mimetype": "text/x-python",
   "name": "python",
   "nbconvert_exporter": "python",
   "pygments_lexer": "ipython3",
   "version": "3.13.0"
  }
 },
 "nbformat": 4,
 "nbformat_minor": 5
}
