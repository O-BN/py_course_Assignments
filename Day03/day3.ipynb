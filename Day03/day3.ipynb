{
 "cells": [
  {
   "cell_type": "code",
   "execution_count": 1,
   "id": "bd727862-2412-4fc5-949a-9f9d80a289c4",
   "metadata": {},
   "outputs": [
    {
     "name": "stdout",
     "output_type": "stream",
     "text": [
      "Rectangle area: 539\n",
      "Okay, bye!\n"
     ]
    }
   ],
   "source": [
    "def load_file_and_execute(file_path):\n",
    "    \"\"\"Safely load and execute a Python file.\"\"\"\n",
    "    try:\n",
    "        exec(open(file_path).read(), globals())\n",
    "    except FileNotFoundError:\n",
    "        print(f\"Error: {file_path} not found.\")\n",
    "        return False\n",
    "    return True\n",
    "\n",
    "def print_rectangle():\n",
    "    if load_file_and_execute(\"day3_rec.py\"):\n",
    "            print(f\"Rectangle area: {width * length}\")\n",
    "\n",
    "def print_circle():\n",
    "    if load_file_and_execute(\"day3_cir.py\"):\n",
    "            print(f\"Circle area: {round(pi_num * radius**2, 2)}, Circumference: {round(2 * pi_num * radius, 2)}\")\n",
    "\n",
    "def main():\n",
    "    answer = input(\"Type 'rec' to print the rectangle dimensions or 'cir' to print the circle dimensions (type 'exit' to quit): \").strip().lower()\n",
    "    while answer != \"exit\":\n",
    "        if answer == \"rec\":\n",
    "            print_rectangle()\n",
    "            answer_2 = input(\"Would you like to print the circle dimensions as well? (yes/no): \").strip().lower()\n",
    "            if answer_2 == \"yes\":\n",
    "                print_circle()\n",
    "                answer = \"exit\"\n",
    "            elif answer_2 == \"no\":\n",
    "                print(\"Okay, bye!\")\n",
    "                answer = \"exit\"\n",
    "            else:\n",
    "                print(\"Invalid input. Try again.\")\n",
    "\n",
    "        elif answer == \"cir\":\n",
    "            print_circle()\n",
    "            answer_2 = input(\"Would you like to print the rectangle dimensions as well? (yes/no): \").strip().lower()\n",
    "            if answer_2 == \"yes\":\n",
    "                print_rectangle()\n",
    "                answer = \"exit\"\n",
    "            elif answer_2 == \"no\":\n",
    "                print(\"Okay, bye!\")\n",
    "                answer = \"exit\"\n",
    "            else:\n",
    "                print(\"Invalid input. Try again.\")\n",
    "\n",
    "        else:\n",
    "            print(\"Invalid input. Try again or type 'exit' to quit.\")\n",
    "            answer = input(\"Type 'rec' to print the rectangle dimensions or 'cir' to print the circle dimensions (type 'exit' to quit): \").strip().lower()\n",
    "\n",
    "if __name__ == \"__main__\":\n",
    "    main()\n"
   ]
  },
  {
   "cell_type": "code",
   "execution_count": null,
   "id": "27938784-fc00-4daf-9b7e-cbd91a21ec4d",
   "metadata": {},
   "outputs": [],
   "source": []
  }
 ],
 "metadata": {
  "kernelspec": {
   "display_name": "base",
   "language": "python",
   "name": "python3"
  },
  "language_info": {
   "codemirror_mode": {
    "name": "ipython",
    "version": 3
   },
   "file_extension": ".py",
   "mimetype": "text/x-python",
   "name": "python",
   "nbconvert_exporter": "python",
   "pygments_lexer": "ipython3",
   "version": "3.11.4"
  }
 },
 "nbformat": 4,
 "nbformat_minor": 5
}
