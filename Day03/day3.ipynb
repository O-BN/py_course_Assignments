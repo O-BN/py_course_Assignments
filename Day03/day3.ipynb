{
 "cells": [
  {
   "cell_type": "code",
   "execution_count": null,
   "id": "bd727862-2412-4fc5-949a-9f9d80a289c4",
   "metadata": {},
   "outputs": [],
   "source": [
    "answer = input('type rec to print the rectangle dimensions or cir to print the circle dimensions')\n",
    "\n",
    "while answer != \"exit\":\n",
    "    if answer == \"rec\":\n",
    "        open(\"day3_rec.py\").read()\n",
    "        print(f\"Rectangle area: {width*length}\")\n",
    "        answer_2 = input(\"wuold you like to print the circle dimensions as well?\")\n",
    "        if answer_2 == \"yes\":\n",
    "            open(\"day3_cir.py\").read()\n",
    "            print(f\"Circle area is:\", {round(pi_num*radius**2,2)}, \"and the circumference is:\", {round(2*pi_num*radius,2)},\".\")\n",
    "            answer = \"exit\"\n",
    "        if answer_2 != \"yes\" or \"no\":\n",
    "            input(\"Try again or write exit\")\n",
    "        if answer_2 == \"no\":\n",
    "            print(\"Ok, bey\")\n",
    "            answer = \"exit\"\n",
    "    if answer == \"cir\":\n",
    "        open(\"day3_cir.py\").read()\n",
    "        print(f\"Circle area is:\", {round(pi_num*radius**2,2)}, \"and the circumference is:\", {round(2*pi_num*radius,2)},\".\")\n",
    "        answer_2 = input(\"wuold you like to print the rectangle dimensions as well?\")\n",
    "        if answer_2 == \"yes\":\n",
    "            open(\"day3_rec.py\").read()\n",
    "            print(f\"Rectangle area: {width*length}\")\n",
    "            answer = \"exit\" \n",
    "        if answer_2 != \"yes\" or \"no\":\n",
    "            input(\"Try again or write exit\")\n",
    "        if answer_2 == \"no\":\n",
    "            print(\"Ok, bey\")\n",
    "            answer = \"exit\"\n",
    "    if answer != \"rec\" or \"cir\":\n",
    "        input(\"Try again or write exit\")\n",
    "\n"
   ]
  },
  {
   "cell_type": "code",
   "execution_count": null,
   "id": "27938784-fc00-4daf-9b7e-cbd91a21ec4d",
   "metadata": {},
   "outputs": [],
   "source": []
  }
 ],
 "metadata": {
  "kernelspec": {
   "display_name": "Python 3",
   "language": "python",
   "name": "python3"
  },
  "language_info": {
   "codemirror_mode": {
    "name": "ipython",
    "version": 3
   },
   "file_extension": ".py",
   "mimetype": "text/x-python",
   "name": "python",
   "nbconvert_exporter": "python",
   "pygments_lexer": "ipython3",
   "version": "3.13.0"
  }
 },
 "nbformat": 4,
 "nbformat_minor": 5
}
